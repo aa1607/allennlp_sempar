{
 "cells": [
  {
   "cell_type": "code",
   "execution_count": 1,
   "metadata": {},
   "outputs": [],
   "source": [
    "import json"
   ]
  },
  {
   "cell_type": "code",
   "execution_count": 2,
   "metadata": {},
   "outputs": [],
   "source": [
    "def convert(dataset_name):\n",
    "    with open(f'{dataset_name}/{dataset_name}.test') as infile, open(\n",
    "        f'{dataset_name}/{dataset_name}_test_src.jsonl', 'w') as src_outfile, open(\n",
    "        f'{dataset_name}/{dataset_name}_test_tgt.txt', 'w') as tgt_outfile:\n",
    "        for line in infile:\n",
    "            split = line.split('\\t')\n",
    "            #print(line.split('\\t')[0])\n",
    "            json.dump({'source': split[0].rstrip()}, src_outfile)\n",
    "            src_outfile.write('\\n')\n",
    "            tgt_outfile.write(split[1])"
   ]
  },
  {
   "cell_type": "code",
   "execution_count": 3,
   "metadata": {},
   "outputs": [],
   "source": [
    "convert('atis1')"
   ]
  },
  {
   "cell_type": "code",
   "execution_count": 4,
   "metadata": {},
   "outputs": [],
   "source": [
    "convert('atis2')"
   ]
  },
  {
   "cell_type": "code",
   "execution_count": null,
   "metadata": {},
   "outputs": [],
   "source": []
  }
 ],
 "metadata": {
  "kernelspec": {
   "display_name": "Python 3",
   "language": "python",
   "name": "python3"
  },
  "language_info": {
   "codemirror_mode": {
    "name": "ipython",
    "version": 3
   },
   "file_extension": ".py",
   "mimetype": "text/x-python",
   "name": "python",
   "nbconvert_exporter": "python",
   "pygments_lexer": "ipython3",
   "version": "3.6.2"
  }
 },
 "nbformat": 4,
 "nbformat_minor": 2
}
